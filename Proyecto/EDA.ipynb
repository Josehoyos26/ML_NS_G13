{
 "cells": [
  {
   "metadata": {},
   "cell_type": "markdown",
   "source": [
    "# ANÁLISIS EXPLORATORIO DE DATOS\n",
    "\n",
    "Este notebook contiene el reporte preliminar de datos que serán utilizados durante el proyecto. \n",
    "\n"
   ],
   "id": "d199d3f078a22bb9"
  },
  {
   "metadata": {
    "ExecuteTime": {
     "end_time": "2024-08-31T17:48:03.997323Z",
     "start_time": "2024-08-31T17:48:03.983527Z"
    }
   },
   "cell_type": "code",
   "source": [
    "# Imports\n",
    "import pandas as pd\n",
    "import matplotlib.pyplot as plt\n"
   ],
   "id": "c8bb93e4f799277a",
   "outputs": [],
   "execution_count": 26
  },
  {
   "metadata": {},
   "cell_type": "markdown",
   "source": "## Carga de datos",
   "id": "f7dfdc6a4c891c1f"
  },
  {
   "metadata": {
    "ExecuteTime": {
     "end_time": "2024-08-31T17:43:03.641041Z",
     "start_time": "2024-08-31T17:42:57.881668Z"
    }
   },
   "cell_type": "code",
   "source": [
    "df = pd.read_excel('data/catalogo_streaming.xlsx')\n",
    "df.head()"
   ],
   "id": "b16c57d3291b44fa",
   "outputs": [
    {
     "data": {
      "text/plain": [
       "                 title     platform   type  imdbVotes  imdbScore  \\\n",
       "0      Cadena perpetua          Max  MOVIE  2906253.0        9.3   \n",
       "1  El caballero oscuro          Max  MOVIE  2893241.0        9.0   \n",
       "2               Origen          Max  MOVIE  2570263.0        8.8   \n",
       "3  El club de la lucha  Disney Plus  MOVIE  2345071.0        8.8   \n",
       "4  El club de la lucha      Netflix  MOVIE  2345071.0        8.8   \n",
       "\n",
       "   tmdbPopularity  tmdbScore  runtime  \\\n",
       "0         159.594      8.705      142   \n",
       "1         111.674      8.516      152   \n",
       "2         139.644      8.369      148   \n",
       "3         108.297      8.400      139   \n",
       "4         108.297      8.400      139   \n",
       "\n",
       "                                              genres           director  \\\n",
       "0                                      Drama, Crimen     Frank Darabont   \n",
       "1  Misterio & Suspense, Drama, Acción & Aventura,...  Christopher Nolan   \n",
       "2  Ciencia ficción, Acción & Aventura, Misterio &...  Christopher Nolan   \n",
       "3                                              Drama      David Fincher   \n",
       "4                                              Drama      David Fincher   \n",
       "\n",
       "  year_range                                                url  \n",
       "0  1900_2002  https://play.max.com/movie/9b4dacba-2f80-4272-...  \n",
       "1  2003_2010  https://play.max.com/movie/52217243-a137-45d6-...  \n",
       "2  2003_2010  https://play.max.com/movie/14552c93-d318-4563-...  \n",
       "3  1998_2004  https://disneyplus.bn5x.net/c/1206980/705874/9...  \n",
       "4  1995_2005              http://www.netflix.com/title/26004747  "
      ],
      "text/html": [
       "<div>\n",
       "<style scoped>\n",
       "    .dataframe tbody tr th:only-of-type {\n",
       "        vertical-align: middle;\n",
       "    }\n",
       "\n",
       "    .dataframe tbody tr th {\n",
       "        vertical-align: top;\n",
       "    }\n",
       "\n",
       "    .dataframe thead th {\n",
       "        text-align: right;\n",
       "    }\n",
       "</style>\n",
       "<table border=\"1\" class=\"dataframe\">\n",
       "  <thead>\n",
       "    <tr style=\"text-align: right;\">\n",
       "      <th></th>\n",
       "      <th>title</th>\n",
       "      <th>platform</th>\n",
       "      <th>type</th>\n",
       "      <th>imdbVotes</th>\n",
       "      <th>imdbScore</th>\n",
       "      <th>tmdbPopularity</th>\n",
       "      <th>tmdbScore</th>\n",
       "      <th>runtime</th>\n",
       "      <th>genres</th>\n",
       "      <th>director</th>\n",
       "      <th>year_range</th>\n",
       "      <th>url</th>\n",
       "    </tr>\n",
       "  </thead>\n",
       "  <tbody>\n",
       "    <tr>\n",
       "      <th>0</th>\n",
       "      <td>Cadena perpetua</td>\n",
       "      <td>Max</td>\n",
       "      <td>MOVIE</td>\n",
       "      <td>2906253.0</td>\n",
       "      <td>9.3</td>\n",
       "      <td>159.594</td>\n",
       "      <td>8.705</td>\n",
       "      <td>142</td>\n",
       "      <td>Drama, Crimen</td>\n",
       "      <td>Frank Darabont</td>\n",
       "      <td>1900_2002</td>\n",
       "      <td>https://play.max.com/movie/9b4dacba-2f80-4272-...</td>\n",
       "    </tr>\n",
       "    <tr>\n",
       "      <th>1</th>\n",
       "      <td>El caballero oscuro</td>\n",
       "      <td>Max</td>\n",
       "      <td>MOVIE</td>\n",
       "      <td>2893241.0</td>\n",
       "      <td>9.0</td>\n",
       "      <td>111.674</td>\n",
       "      <td>8.516</td>\n",
       "      <td>152</td>\n",
       "      <td>Misterio &amp; Suspense, Drama, Acción &amp; Aventura,...</td>\n",
       "      <td>Christopher Nolan</td>\n",
       "      <td>2003_2010</td>\n",
       "      <td>https://play.max.com/movie/52217243-a137-45d6-...</td>\n",
       "    </tr>\n",
       "    <tr>\n",
       "      <th>2</th>\n",
       "      <td>Origen</td>\n",
       "      <td>Max</td>\n",
       "      <td>MOVIE</td>\n",
       "      <td>2570263.0</td>\n",
       "      <td>8.8</td>\n",
       "      <td>139.644</td>\n",
       "      <td>8.369</td>\n",
       "      <td>148</td>\n",
       "      <td>Ciencia ficción, Acción &amp; Aventura, Misterio &amp;...</td>\n",
       "      <td>Christopher Nolan</td>\n",
       "      <td>2003_2010</td>\n",
       "      <td>https://play.max.com/movie/14552c93-d318-4563-...</td>\n",
       "    </tr>\n",
       "    <tr>\n",
       "      <th>3</th>\n",
       "      <td>El club de la lucha</td>\n",
       "      <td>Disney Plus</td>\n",
       "      <td>MOVIE</td>\n",
       "      <td>2345071.0</td>\n",
       "      <td>8.8</td>\n",
       "      <td>108.297</td>\n",
       "      <td>8.400</td>\n",
       "      <td>139</td>\n",
       "      <td>Drama</td>\n",
       "      <td>David Fincher</td>\n",
       "      <td>1998_2004</td>\n",
       "      <td>https://disneyplus.bn5x.net/c/1206980/705874/9...</td>\n",
       "    </tr>\n",
       "    <tr>\n",
       "      <th>4</th>\n",
       "      <td>El club de la lucha</td>\n",
       "      <td>Netflix</td>\n",
       "      <td>MOVIE</td>\n",
       "      <td>2345071.0</td>\n",
       "      <td>8.8</td>\n",
       "      <td>108.297</td>\n",
       "      <td>8.400</td>\n",
       "      <td>139</td>\n",
       "      <td>Drama</td>\n",
       "      <td>David Fincher</td>\n",
       "      <td>1995_2005</td>\n",
       "      <td>http://www.netflix.com/title/26004747</td>\n",
       "    </tr>\n",
       "  </tbody>\n",
       "</table>\n",
       "</div>"
      ]
     },
     "execution_count": 2,
     "metadata": {},
     "output_type": "execute_result"
    }
   ],
   "execution_count": 2
  },
  {
   "metadata": {
    "ExecuteTime": {
     "end_time": "2024-08-31T17:43:03.656435Z",
     "start_time": "2024-08-31T17:43:03.641908Z"
    }
   },
   "cell_type": "code",
   "source": "print('Cantidad de registros :', df.__len__())",
   "id": "22cbd233088978b1",
   "outputs": [
    {
     "name": "stdout",
     "output_type": "stream",
     "text": [
      "Cantidad de registros : 19817\n"
     ]
    }
   ],
   "execution_count": 3
  },
  {
   "metadata": {},
   "cell_type": "markdown",
   "source": "## Funciones utiles",
   "id": "d5e333802d630b65"
  },
  {
   "metadata": {
    "ExecuteTime": {
     "end_time": "2024-09-01T05:43:12.845504Z",
     "start_time": "2024-09-01T05:43:12.823504Z"
    }
   },
   "cell_type": "code",
   "source": [
    "def get_value_counts(dataframe: pd.DataFrame, column_name: str) -> pd.Series:\n",
    "    \"\"\"\n",
    "    :param dataframe: The pandas DataFrame containing the data.\n",
    "    :param column_name: The name of the column for which to get the value counts.\n",
    "    :return: A pandas Series object containing the counts of each unique value in the specified column.\n",
    "    \"\"\"\n",
    "    return dataframe[column_name].value_counts()\n",
    "\n",
    "\n",
    "def count_values_in_column(dataframe: pd.DataFrame, column_name: str) -> pd.Series:\n",
    "    \"\"\"\n",
    "    :param dataframe: A pandas DataFrame containing the data.\n",
    "    :param column_name: The name of the column for which the values need to be counted.\n",
    "    :return: A pandas Series object containing the count of each unique value in the specified column.\n",
    "    \"\"\"\n",
    "    return get_value_counts(dataframe, column_name)\n",
    "\n",
    "\n",
    "def filter_values_equal_than_k(dataframe : pd.DataFrame, column_name: str, k=1) -> pd.DataFrame:\n",
    "    \"\"\"\n",
    "    Filters the values in the specified column of the given dataframe,\n",
    "    keeping only the ones that occur equal than k value.\n",
    "\n",
    "    :param dataframe: The dataframe containing the data.\n",
    "    :type dataframe: pandas.DataFrame\n",
    "    :param column_name: The name of the column to filter.\n",
    "    :type column_name: str\n",
    "    :k variable: The number of values to filter.\n",
    "    :type k: int\n",
    "    :return: A new dataframe with the filtered values.\n",
    "    :rtype: pandas.DataFrame\n",
    "    \"\"\"\n",
    "    value_counts = get_value_counts(dataframe, column_name)\n",
    "    return value_counts[value_counts == k]\n",
    "\n",
    "\n",
    "def filter_values_greater_than_k(dataframe : pd.DataFrame, column_name: str, k=1) -> pd.DataFrame:\n",
    "    \"\"\"\n",
    "    Filters the values in the specified column of the given dataframe,\n",
    "    keeping only the ones that occur more than k value.\n",
    "\n",
    "    :param dataframe: The dataframe containing the data.\n",
    "    :type dataframe: pandas.DataFrame\n",
    "    :param column_name: The name of the column to filter.\n",
    "    :type column_name: str\n",
    "    :k variable: The number of values to filter.\n",
    "    :type k: int\n",
    "    :return: A new dataframe with the filtered values.\n",
    "    :rtype: pandas.DataFrame\n",
    "    \"\"\"\n",
    "    value_counts = get_value_counts(dataframe, column_name)\n",
    "    return value_counts[value_counts > k]\n",
    "\n",
    "def filter_values_lower_than_k(dataframe : pd.DataFrame, column_name: str, k=1) -> pd.DataFrame:\n",
    "    \"\"\"\n",
    "    Filters the values in the specified column of the given dataframe,\n",
    "    keeping only the ones that occur less than k value.\n",
    "\n",
    "    :param dataframe: The dataframe containing the data.\n",
    "    :type dataframe: pandas.DataFrame\n",
    "    :param column_name: The name of the column to filter.\n",
    "    :type column_name: str\n",
    "    :k variable: The number of values to filter.\n",
    "    :type k: int\n",
    "    :return: A new dataframe with the filtered values.\n",
    "    :rtype: pandas.DataFrame\n",
    "    \"\"\"\n",
    "    value_counts = get_value_counts(dataframe, column_name)\n",
    "    return value_counts[value_counts <= k]"
   ],
   "id": "96b7a4e1fa6b4be2",
   "outputs": [],
   "execution_count": 96
  },
  {
   "metadata": {},
   "cell_type": "markdown",
   "source": "## Descripciones iniciales",
   "id": "d43d93b48d21854f"
  },
  {
   "metadata": {
    "ExecuteTime": {
     "end_time": "2024-09-01T05:34:39.748761Z",
     "start_time": "2024-09-01T05:34:38.782747Z"
    }
   },
   "cell_type": "code",
   "source": [
    "# Descripción de los datos\n",
    "df.describe(include=object).T"
   ],
   "id": "a974a4bbe037712",
   "outputs": [
    {
     "data": {
      "text/plain": [
       "            count unique                                    top   freq\n",
       "title       19817  18008                              La niñera      5\n",
       "platform    19817      6                                Netflix   7109\n",
       "type        19817      2                                  MOVIE  14060\n",
       "genres      19665   4189                           [Documental]   1277\n",
       "director    14626   8812                       Steven Spielberg     27\n",
       "year_range  19817     27                                   2022   1697\n",
       "url         19817  19062  http://www.netflix.com/title/81662957      2"
      ],
      "text/html": [
       "<div>\n",
       "<style scoped>\n",
       "    .dataframe tbody tr th:only-of-type {\n",
       "        vertical-align: middle;\n",
       "    }\n",
       "\n",
       "    .dataframe tbody tr th {\n",
       "        vertical-align: top;\n",
       "    }\n",
       "\n",
       "    .dataframe thead th {\n",
       "        text-align: right;\n",
       "    }\n",
       "</style>\n",
       "<table border=\"1\" class=\"dataframe\">\n",
       "  <thead>\n",
       "    <tr style=\"text-align: right;\">\n",
       "      <th></th>\n",
       "      <th>count</th>\n",
       "      <th>unique</th>\n",
       "      <th>top</th>\n",
       "      <th>freq</th>\n",
       "    </tr>\n",
       "  </thead>\n",
       "  <tbody>\n",
       "    <tr>\n",
       "      <th>title</th>\n",
       "      <td>19817</td>\n",
       "      <td>18008</td>\n",
       "      <td>La niñera</td>\n",
       "      <td>5</td>\n",
       "    </tr>\n",
       "    <tr>\n",
       "      <th>platform</th>\n",
       "      <td>19817</td>\n",
       "      <td>6</td>\n",
       "      <td>Netflix</td>\n",
       "      <td>7109</td>\n",
       "    </tr>\n",
       "    <tr>\n",
       "      <th>type</th>\n",
       "      <td>19817</td>\n",
       "      <td>2</td>\n",
       "      <td>MOVIE</td>\n",
       "      <td>14060</td>\n",
       "    </tr>\n",
       "    <tr>\n",
       "      <th>genres</th>\n",
       "      <td>19665</td>\n",
       "      <td>4189</td>\n",
       "      <td>[Documental]</td>\n",
       "      <td>1277</td>\n",
       "    </tr>\n",
       "    <tr>\n",
       "      <th>director</th>\n",
       "      <td>14626</td>\n",
       "      <td>8812</td>\n",
       "      <td>Steven Spielberg</td>\n",
       "      <td>27</td>\n",
       "    </tr>\n",
       "    <tr>\n",
       "      <th>year_range</th>\n",
       "      <td>19817</td>\n",
       "      <td>27</td>\n",
       "      <td>2022</td>\n",
       "      <td>1697</td>\n",
       "    </tr>\n",
       "    <tr>\n",
       "      <th>url</th>\n",
       "      <td>19817</td>\n",
       "      <td>19062</td>\n",
       "      <td>http://www.netflix.com/title/81662957</td>\n",
       "      <td>2</td>\n",
       "    </tr>\n",
       "  </tbody>\n",
       "</table>\n",
       "</div>"
      ]
     },
     "execution_count": 84,
     "metadata": {},
     "output_type": "execute_result"
    }
   ],
   "execution_count": 84
  },
  {
   "metadata": {
    "ExecuteTime": {
     "end_time": "2024-08-31T17:43:03.750318Z",
     "start_time": "2024-08-31T17:43:03.720525Z"
    }
   },
   "cell_type": "code",
   "source": "df.describe().T",
   "id": "70a1a096af8f57e7",
   "outputs": [
    {
     "data": {
      "text/plain": [
       "                  count          mean            std    min        25%  \\\n",
       "imdbVotes       17854.0  48388.577630  148847.265886  5.000  462.00000   \n",
       "imdbScore       17927.0      6.399520       1.200258  1.100    5.70000   \n",
       "tmdbPopularity  19538.0     41.195589     131.031366  0.001    5.43325   \n",
       "tmdbScore       18954.0      6.461363       1.254487  0.500    5.88950   \n",
       "runtime         19817.0     80.542867      37.092943  0.000   48.00000   \n",
       "\n",
       "                      50%          75%          max  \n",
       "imdbVotes       2849.5000  21969.75000  2906253.000  \n",
       "imdbScore          6.5000      7.30000        9.700  \n",
       "tmdbPopularity    14.4285     33.31250     4173.518  \n",
       "tmdbScore          6.6000      7.27375       10.000  \n",
       "runtime           89.0000    105.00000      263.000  "
      ],
      "text/html": [
       "<div>\n",
       "<style scoped>\n",
       "    .dataframe tbody tr th:only-of-type {\n",
       "        vertical-align: middle;\n",
       "    }\n",
       "\n",
       "    .dataframe tbody tr th {\n",
       "        vertical-align: top;\n",
       "    }\n",
       "\n",
       "    .dataframe thead th {\n",
       "        text-align: right;\n",
       "    }\n",
       "</style>\n",
       "<table border=\"1\" class=\"dataframe\">\n",
       "  <thead>\n",
       "    <tr style=\"text-align: right;\">\n",
       "      <th></th>\n",
       "      <th>count</th>\n",
       "      <th>mean</th>\n",
       "      <th>std</th>\n",
       "      <th>min</th>\n",
       "      <th>25%</th>\n",
       "      <th>50%</th>\n",
       "      <th>75%</th>\n",
       "      <th>max</th>\n",
       "    </tr>\n",
       "  </thead>\n",
       "  <tbody>\n",
       "    <tr>\n",
       "      <th>imdbVotes</th>\n",
       "      <td>17854.0</td>\n",
       "      <td>48388.577630</td>\n",
       "      <td>148847.265886</td>\n",
       "      <td>5.000</td>\n",
       "      <td>462.00000</td>\n",
       "      <td>2849.5000</td>\n",
       "      <td>21969.75000</td>\n",
       "      <td>2906253.000</td>\n",
       "    </tr>\n",
       "    <tr>\n",
       "      <th>imdbScore</th>\n",
       "      <td>17927.0</td>\n",
       "      <td>6.399520</td>\n",
       "      <td>1.200258</td>\n",
       "      <td>1.100</td>\n",
       "      <td>5.70000</td>\n",
       "      <td>6.5000</td>\n",
       "      <td>7.30000</td>\n",
       "      <td>9.700</td>\n",
       "    </tr>\n",
       "    <tr>\n",
       "      <th>tmdbPopularity</th>\n",
       "      <td>19538.0</td>\n",
       "      <td>41.195589</td>\n",
       "      <td>131.031366</td>\n",
       "      <td>0.001</td>\n",
       "      <td>5.43325</td>\n",
       "      <td>14.4285</td>\n",
       "      <td>33.31250</td>\n",
       "      <td>4173.518</td>\n",
       "    </tr>\n",
       "    <tr>\n",
       "      <th>tmdbScore</th>\n",
       "      <td>18954.0</td>\n",
       "      <td>6.461363</td>\n",
       "      <td>1.254487</td>\n",
       "      <td>0.500</td>\n",
       "      <td>5.88950</td>\n",
       "      <td>6.6000</td>\n",
       "      <td>7.27375</td>\n",
       "      <td>10.000</td>\n",
       "    </tr>\n",
       "    <tr>\n",
       "      <th>runtime</th>\n",
       "      <td>19817.0</td>\n",
       "      <td>80.542867</td>\n",
       "      <td>37.092943</td>\n",
       "      <td>0.000</td>\n",
       "      <td>48.00000</td>\n",
       "      <td>89.0000</td>\n",
       "      <td>105.00000</td>\n",
       "      <td>263.000</td>\n",
       "    </tr>\n",
       "  </tbody>\n",
       "</table>\n",
       "</div>"
      ]
     },
     "execution_count": 6,
     "metadata": {},
     "output_type": "execute_result"
    }
   ],
   "execution_count": 6
  },
  {
   "metadata": {},
   "cell_type": "markdown",
   "source": [
    "### title\n",
    "\n",
    "Vemos que la variable referente al título no es única para todos registros que existen."
   ],
   "id": "c3d081299911d5c4"
  },
  {
   "metadata": {
    "ExecuteTime": {
     "end_time": "2024-08-31T17:43:03.765350Z",
     "start_time": "2024-08-31T17:43:03.751320Z"
    }
   },
   "cell_type": "code",
   "source": [
    "# Títulos que aparecen más de una vez\n",
    "filtered_value_counts = filter_values_greater_than_one(df, column_name='title')\n",
    "filtered_value_counts"
   ],
   "id": "3270f1a61980e0a",
   "outputs": [
    {
     "data": {
      "text/plain": [
       "title\n",
       "La niñera                         5\n",
       "La momia                          5\n",
       "Perdida                           5\n",
       "La boda de mi mejor amigo         5\n",
       "El Grinch                         5\n",
       "                                 ..\n",
       "Ruslan: Venganza de un asesino    2\n",
       "Dexter                            2\n",
       "El lobo de Wall Street            2\n",
       "La tormenta perfecta              2\n",
       "Locuras en la universidad         2\n",
       "Name: count, Length: 1631, dtype: int64"
      ]
     },
     "execution_count": 7,
     "metadata": {},
     "output_type": "execute_result"
    }
   ],
   "execution_count": 7
  },
  {
   "metadata": {
    "ExecuteTime": {
     "end_time": "2024-08-31T17:43:04.532643Z",
     "start_time": "2024-08-31T17:43:03.766348Z"
    }
   },
   "cell_type": "code",
   "source": "filtered_value_counts.plot(kind='hist')",
   "id": "ec4e91de7ccfc3a0",
   "outputs": [
    {
     "data": {
      "text/plain": [
       "<Axes: ylabel='Frequency'>"
      ]
     },
     "execution_count": 8,
     "metadata": {},
     "output_type": "execute_result"
    },
    {
     "data": {
      "text/plain": [
       "<Figure size 640x480 with 1 Axes>"
      ],
      "image/png": "[encoded data removed]"
     },
     "metadata": {},
     "output_type": "display_data"
    }
   ],
   "execution_count": 8
  },
  {
   "metadata": {
    "ExecuteTime": {
     "end_time": "2024-08-31T17:43:04.548094Z",
     "start_time": "2024-08-31T17:43:04.534135Z"
    }
   },
   "cell_type": "code",
   "source": [
    "# Mirando un registro en específico\n",
    "df.loc[df['title'] == 'La momia']"
   ],
   "id": "5b024470d43a3db6",
   "outputs": [
    {
     "data": {
      "text/plain": [
       "         title            platform   type  imdbVotes  imdbScore  \\\n",
       "413   La momia         Disney Plus  MOVIE   464416.0        7.1   \n",
       "414   La momia  Amazon Prime Video  MOVIE   464416.0        7.1   \n",
       "1162  La momia                 Max  MOVIE   207602.0        5.4   \n",
       "1163  La momia             Netflix  MOVIE   207602.0        5.4   \n",
       "1164  La momia  Amazon Prime Video  MOVIE   207602.0        5.4   \n",
       "\n",
       "      tmdbPopularity  tmdbScore  runtime  \\\n",
       "413           87.481      6.929      124   \n",
       "414           87.481      6.929      124   \n",
       "1162         123.168      5.510      110   \n",
       "1163         123.168      5.510      110   \n",
       "1164         123.168      5.510      110   \n",
       "\n",
       "                                                 genres         director  \\\n",
       "413                         Acción & Aventura, Fantasía  Stephen Sommers   \n",
       "414                         Acción & Aventura, Fantasía  Stephen Sommers   \n",
       "1162  Misterio & Suspense, Acción & Aventura, Terror...    Alex Kurtzman   \n",
       "1163  Misterio & Suspense, Acción & Aventura, Terror...    Alex Kurtzman   \n",
       "1164  Misterio & Suspense, Acción & Aventura, Terror...    Alex Kurtzman   \n",
       "\n",
       "     year_range                                                url  \n",
       "413   1998_2004  https://disneyplus.bn5x.net/c/1206980/705874/9...  \n",
       "414   1998_2004  https://app.primevideo.com/detail?gti=amzn1.dv...  \n",
       "1162  2016_2019  https://play.max.com/movie/c4fe03b2-1c83-4750-...  \n",
       "1163  2013_2017              http://www.netflix.com/title/80161352  \n",
       "1164  2017_2018  https://app.primevideo.com/detail?gti=amzn1.dv...  "
      ],
      "text/html": [
       "<div>\n",
       "<style scoped>\n",
       "    .dataframe tbody tr th:only-of-type {\n",
       "        vertical-align: middle;\n",
       "    }\n",
       "\n",
       "    .dataframe tbody tr th {\n",
       "        vertical-align: top;\n",
       "    }\n",
       "\n",
       "    .dataframe thead th {\n",
       "        text-align: right;\n",
       "    }\n",
       "</style>\n",
       "<table border=\"1\" class=\"dataframe\">\n",
       "  <thead>\n",
       "    <tr style=\"text-align: right;\">\n",
       "      <th></th>\n",
       "      <th>title</th>\n",
       "      <th>platform</th>\n",
       "      <th>type</th>\n",
       "      <th>imdbVotes</th>\n",
       "      <th>imdbScore</th>\n",
       "      <th>tmdbPopularity</th>\n",
       "      <th>tmdbScore</th>\n",
       "      <th>runtime</th>\n",
       "      <th>genres</th>\n",
       "      <th>director</th>\n",
       "      <th>year_range</th>\n",
       "      <th>url</th>\n",
       "    </tr>\n",
       "  </thead>\n",
       "  <tbody>\n",
       "    <tr>\n",
       "      <th>413</th>\n",
       "      <td>La momia</td>\n",
       "      <td>Disney Plus</td>\n",
       "      <td>MOVIE</td>\n",
       "      <td>464416.0</td>\n",
       "      <td>7.1</td>\n",
       "      <td>87.481</td>\n",
       "      <td>6.929</td>\n",
       "      <td>124</td>\n",
       "      <td>Acción &amp; Aventura, Fantasía</td>\n",
       "      <td>Stephen Sommers</td>\n",
       "      <td>1998_2004</td>\n",
       "      <td>https://disneyplus.bn5x.net/c/1206980/705874/9...</td>\n",
       "    </tr>\n",
       "    <tr>\n",
       "      <th>414</th>\n",
       "      <td>La momia</td>\n",
       "      <td>Amazon Prime Video</td>\n",
       "      <td>MOVIE</td>\n",
       "      <td>464416.0</td>\n",
       "      <td>7.1</td>\n",
       "      <td>87.481</td>\n",
       "      <td>6.929</td>\n",
       "      <td>124</td>\n",
       "      <td>Acción &amp; Aventura, Fantasía</td>\n",
       "      <td>Stephen Sommers</td>\n",
       "      <td>1998_2004</td>\n",
       "      <td>https://app.primevideo.com/detail?gti=amzn1.dv...</td>\n",
       "    </tr>\n",
       "    <tr>\n",
       "      <th>1162</th>\n",
       "      <td>La momia</td>\n",
       "      <td>Max</td>\n",
       "      <td>MOVIE</td>\n",
       "      <td>207602.0</td>\n",
       "      <td>5.4</td>\n",
       "      <td>123.168</td>\n",
       "      <td>5.510</td>\n",
       "      <td>110</td>\n",
       "      <td>Misterio &amp; Suspense, Acción &amp; Aventura, Terror...</td>\n",
       "      <td>Alex Kurtzman</td>\n",
       "      <td>2016_2019</td>\n",
       "      <td>https://play.max.com/movie/c4fe03b2-1c83-4750-...</td>\n",
       "    </tr>\n",
       "    <tr>\n",
       "      <th>1163</th>\n",
       "      <td>La momia</td>\n",
       "      <td>Netflix</td>\n",
       "      <td>MOVIE</td>\n",
       "      <td>207602.0</td>\n",
       "      <td>5.4</td>\n",
       "      <td>123.168</td>\n",
       "      <td>5.510</td>\n",
       "      <td>110</td>\n",
       "      <td>Misterio &amp; Suspense, Acción &amp; Aventura, Terror...</td>\n",
       "      <td>Alex Kurtzman</td>\n",
       "      <td>2013_2017</td>\n",
       "      <td>http://www.netflix.com/title/80161352</td>\n",
       "    </tr>\n",
       "    <tr>\n",
       "      <th>1164</th>\n",
       "      <td>La momia</td>\n",
       "      <td>Amazon Prime Video</td>\n",
       "      <td>MOVIE</td>\n",
       "      <td>207602.0</td>\n",
       "      <td>5.4</td>\n",
       "      <td>123.168</td>\n",
       "      <td>5.510</td>\n",
       "      <td>110</td>\n",
       "      <td>Misterio &amp; Suspense, Acción &amp; Aventura, Terror...</td>\n",
       "      <td>Alex Kurtzman</td>\n",
       "      <td>2017_2018</td>\n",
       "      <td>https://app.primevideo.com/detail?gti=amzn1.dv...</td>\n",
       "    </tr>\n",
       "  </tbody>\n",
       "</table>\n",
       "</div>"
      ]
     },
     "execution_count": 9,
     "metadata": {},
     "output_type": "execute_result"
    }
   ],
   "execution_count": 9
  },
  {
   "metadata": {},
   "cell_type": "markdown",
   "source": [
    "Se puede observar que en este registro en particular, podemos ver 2 casos:\n",
    "\n",
    "- Se repite el valor para cada plataforma \n",
    "- Se repiten títulos para diferentes películas y se diferencian por año de lanzamiento\n",
    "\n",
    "En este notebook no se tiene como objetivo hacer una limpieza de datos por lo que este caso solo se reporta y no sé interviene. "
   ],
   "id": "aedcfe5251d7848a"
  },
  {
   "metadata": {},
   "cell_type": "markdown",
   "source": [
    "### platform\n",
    "\n",
    "Análisis de contenido en las plataformas"
   ],
   "id": "98b9e877804f2bb"
  },
  {
   "metadata": {
    "ExecuteTime": {
     "end_time": "2024-08-31T17:43:56.218146Z",
     "start_time": "2024-08-31T17:43:56.196216Z"
    }
   },
   "cell_type": "code",
   "source": [
    "platform_counts = count_values_in_column(df, column_name='platform').to_frame(name='count') # se pasa a dataframe para manipularlo\n",
    "platform_counts"
   ],
   "id": "c8e037335b176c66",
   "outputs": [
    {
     "data": {
      "text/plain": [
       "                    count\n",
       "platform                 \n",
       "Netflix              7109\n",
       "Amazon Prime Video   6436\n",
       "Disney Plus          2980\n",
       "Max                  2585\n",
       "Paramount Plus        475\n",
       "Apple TV Plus         232"
      ],
      "text/html": [
       "<div>\n",
       "<style scoped>\n",
       "    .dataframe tbody tr th:only-of-type {\n",
       "        vertical-align: middle;\n",
       "    }\n",
       "\n",
       "    .dataframe tbody tr th {\n",
       "        vertical-align: top;\n",
       "    }\n",
       "\n",
       "    .dataframe thead th {\n",
       "        text-align: right;\n",
       "    }\n",
       "</style>\n",
       "<table border=\"1\" class=\"dataframe\">\n",
       "  <thead>\n",
       "    <tr style=\"text-align: right;\">\n",
       "      <th></th>\n",
       "      <th>count</th>\n",
       "    </tr>\n",
       "    <tr>\n",
       "      <th>platform</th>\n",
       "      <th></th>\n",
       "    </tr>\n",
       "  </thead>\n",
       "  <tbody>\n",
       "    <tr>\n",
       "      <th>Netflix</th>\n",
       "      <td>7109</td>\n",
       "    </tr>\n",
       "    <tr>\n",
       "      <th>Amazon Prime Video</th>\n",
       "      <td>6436</td>\n",
       "    </tr>\n",
       "    <tr>\n",
       "      <th>Disney Plus</th>\n",
       "      <td>2980</td>\n",
       "    </tr>\n",
       "    <tr>\n",
       "      <th>Max</th>\n",
       "      <td>2585</td>\n",
       "    </tr>\n",
       "    <tr>\n",
       "      <th>Paramount Plus</th>\n",
       "      <td>475</td>\n",
       "    </tr>\n",
       "    <tr>\n",
       "      <th>Apple TV Plus</th>\n",
       "      <td>232</td>\n",
       "    </tr>\n",
       "  </tbody>\n",
       "</table>\n",
       "</div>"
      ]
     },
     "execution_count": 13,
     "metadata": {},
     "output_type": "execute_result"
    }
   ],
   "execution_count": 13
  },
  {
   "metadata": {
    "ExecuteTime": {
     "end_time": "2024-08-31T17:46:22.862677Z",
     "start_time": "2024-08-31T17:46:22.850610Z"
    }
   },
   "cell_type": "code",
   "source": [
    "platform_counts['percentage'] = ( platform_counts['count'] / platform_counts['count'].sum() ) * 100 \n",
    "platform_counts"
   ],
   "id": "e779c1249e65ee81",
   "outputs": [
    {
     "data": {
      "text/plain": [
       "                    count  percentage\n",
       "platform                             \n",
       "Netflix              7109   35.873240\n",
       "Amazon Prime Video   6436   32.477166\n",
       "Disney Plus          2980   15.037594\n",
       "Max                  2585   13.044356\n",
       "Paramount Plus        475    2.396932\n",
       "Apple TV Plus         232    1.170712"
      ],
      "text/html": [
       "<div>\n",
       "<style scoped>\n",
       "    .dataframe tbody tr th:only-of-type {\n",
       "        vertical-align: middle;\n",
       "    }\n",
       "\n",
       "    .dataframe tbody tr th {\n",
       "        vertical-align: top;\n",
       "    }\n",
       "\n",
       "    .dataframe thead th {\n",
       "        text-align: right;\n",
       "    }\n",
       "</style>\n",
       "<table border=\"1\" class=\"dataframe\">\n",
       "  <thead>\n",
       "    <tr style=\"text-align: right;\">\n",
       "      <th></th>\n",
       "      <th>count</th>\n",
       "      <th>percentage</th>\n",
       "    </tr>\n",
       "    <tr>\n",
       "      <th>platform</th>\n",
       "      <th></th>\n",
       "      <th></th>\n",
       "    </tr>\n",
       "  </thead>\n",
       "  <tbody>\n",
       "    <tr>\n",
       "      <th>Netflix</th>\n",
       "      <td>7109</td>\n",
       "      <td>35.873240</td>\n",
       "    </tr>\n",
       "    <tr>\n",
       "      <th>Amazon Prime Video</th>\n",
       "      <td>6436</td>\n",
       "      <td>32.477166</td>\n",
       "    </tr>\n",
       "    <tr>\n",
       "      <th>Disney Plus</th>\n",
       "      <td>2980</td>\n",
       "      <td>15.037594</td>\n",
       "    </tr>\n",
       "    <tr>\n",
       "      <th>Max</th>\n",
       "      <td>2585</td>\n",
       "      <td>13.044356</td>\n",
       "    </tr>\n",
       "    <tr>\n",
       "      <th>Paramount Plus</th>\n",
       "      <td>475</td>\n",
       "      <td>2.396932</td>\n",
       "    </tr>\n",
       "    <tr>\n",
       "      <th>Apple TV Plus</th>\n",
       "      <td>232</td>\n",
       "      <td>1.170712</td>\n",
       "    </tr>\n",
       "  </tbody>\n",
       "</table>\n",
       "</div>"
      ]
     },
     "execution_count": 23,
     "metadata": {},
     "output_type": "execute_result"
    }
   ],
   "execution_count": 23
  },
  {
   "metadata": {
    "ExecuteTime": {
     "end_time": "2024-08-31T18:10:04.745336Z",
     "start_time": "2024-08-31T18:10:04.449731Z"
    }
   },
   "cell_type": "code",
   "source": "platform_counts.plot(kind='bar',subplots=True, title='Platforms by count and percentage')",
   "id": "d4b9bfcaae1e307b",
   "outputs": [
    {
     "data": {
      "text/plain": [
       "array([<Axes: title={'center': 'count'}, xlabel='platform'>,\n",
       "       <Axes: title={'center': 'percentage'}, xlabel='platform'>],\n",
       "      dtype=object)"
      ]
     },
     "execution_count": 42,
     "metadata": {},
     "output_type": "execute_result"
    },
    {
     "data": {
      "text/plain": [
       "<Figure size 640x480 with 2 Axes>"
      ],
      "image/png": "[encoded data removed]"
     },
     "metadata": {},
     "output_type": "display_data"
    }
   ],
   "execution_count": 42
  },
  {
   "metadata": {},
   "cell_type": "markdown",
   "source": "Como podemos ver en general Netflix y Amazon representan más del 67% del contenido registrado. Esta variable puede a futuro ser analizada con la calidad de los contenidos que ambas plataformas contienen  ",
   "id": "5963a7e587809ec7"
  },
  {
   "metadata": {},
   "cell_type": "markdown",
   "source": "",
   "id": "1987d5ecc24c9042"
  },
  {
   "metadata": {},
   "cell_type": "markdown",
   "source": "### type",
   "id": "b1e2a55a5e49acc"
  },
  {
   "metadata": {
    "ExecuteTime": {
     "end_time": "2024-08-31T18:17:59.518532Z",
     "start_time": "2024-08-31T18:17:59.512528Z"
    }
   },
   "cell_type": "code",
   "source": [
    "type_counts = count_values_in_column(df, column_name='type')\n",
    "type_counts"
   ],
   "id": "561fdc103493dfa1",
   "outputs": [
    {
     "data": {
      "text/plain": [
       "type\n",
       "MOVIE    14060\n",
       "SHOW      5757\n",
       "Name: count, dtype: int64"
      ]
     },
     "execution_count": 45,
     "metadata": {},
     "output_type": "execute_result"
    }
   ],
   "execution_count": 45
  },
  {
   "metadata": {
    "ExecuteTime": {
     "end_time": "2024-09-01T01:04:53.372599Z",
     "start_time": "2024-09-01T01:04:53.277601Z"
    }
   },
   "cell_type": "code",
   "source": "type_counts.plot(kind='pie', title='Distribution of types of content')",
   "id": "f513c71e7346abad",
   "outputs": [
    {
     "data": {
      "text/plain": [
       "<Axes: title={'center': 'Distribution of types of content'}, ylabel='count'>"
      ]
     },
     "execution_count": 62,
     "metadata": {},
     "output_type": "execute_result"
    },
    {
     "data": {
      "text/plain": [
       "<Figure size 640x480 with 1 Axes>"
      ],
      "image/png": "[encoded data removed]"
     },
     "metadata": {},
     "output_type": "display_data"
    }
   ],
   "execution_count": 62
  },
  {
   "metadata": {},
   "cell_type": "markdown",
   "source": "En el caso del tipo de contenido vemos que en su mayoría son películas. Esta variable a futuro se puede cruzar con otras para generar más valor",
   "id": "44997723a900aaf3"
  },
  {
   "metadata": {},
   "cell_type": "markdown",
   "source": "### genres\n",
   "id": "39c8d894da2456e2"
  },
  {
   "metadata": {
    "ExecuteTime": {
     "end_time": "2024-09-01T00:55:13.263197Z",
     "start_time": "2024-09-01T00:55:13.227199Z"
    }
   },
   "cell_type": "code",
   "source": [
    "# pasamos los generos de un string a un array \n",
    "df['genres'] = df['genres'].str.split(',', expand=False)\n",
    "df['genres']"
   ],
   "id": "7072963404527f9",
   "outputs": [
    {
     "data": {
      "text/plain": [
       "0                                         [Drama,  Crimen]\n",
       "1        [Misterio & Suspense,  Drama,  Acción & Aventu...\n",
       "2        [Ciencia ficción,  Acción & Aventura,  Misteri...\n",
       "3                                                  [Drama]\n",
       "4                                                  [Drama]\n",
       "                               ...                        \n",
       "19812                                    [Ciencia ficción]\n",
       "19813                                            [Comedia]\n",
       "19814                                                  NaN\n",
       "19815                                                  NaN\n",
       "19816                                           [Fantasía]\n",
       "Name: genres, Length: 19817, dtype: object"
      ]
     },
     "execution_count": 51,
     "metadata": {},
     "output_type": "execute_result"
    }
   ],
   "execution_count": 51
  },
  {
   "metadata": {
    "ExecuteTime": {
     "end_time": "2024-09-01T01:03:35.589516Z",
     "start_time": "2024-09-01T01:03:35.516665Z"
    }
   },
   "cell_type": "code",
   "source": [
    "# Copiamos los datos en un nuevo df para expandirlo \n",
    "df_genres = df.copy()\n",
    "df_genres = df_genres.explode('genres') # Expandiendo los géneros \n",
    "df_genres['genres'] = [str(genre).strip() for genre in df_genres['genres']] #Limpieza de espacios\n",
    "df_genres"
   ],
   "id": "ce87b0aab73fad2d",
   "outputs": [
    {
     "data": {
      "text/plain": [
       "                     title            platform   type  imdbVotes  imdbScore  \\\n",
       "0          Cadena perpetua                 Max  MOVIE  2906253.0        9.3   \n",
       "0          Cadena perpetua                 Max  MOVIE  2906253.0        9.3   \n",
       "1      El caballero oscuro                 Max  MOVIE  2893241.0        9.0   \n",
       "1      El caballero oscuro                 Max  MOVIE  2893241.0        9.0   \n",
       "1      El caballero oscuro                 Max  MOVIE  2893241.0        9.0   \n",
       "...                    ...                 ...    ...        ...        ...   \n",
       "19812             Три кота             Netflix   SHOW        NaN        NaN   \n",
       "19813           أم الدراهم  Amazon Prime Video   SHOW        NaN        NaN   \n",
       "19814            ورق مسموم  Amazon Prime Video   SHOW        NaN        NaN   \n",
       "19815                 ガクドリ  Amazon Prime Video  MOVIE        NaN        NaN   \n",
       "19816           新歌舞伎：赤胴鈴之助             Netflix  MOVIE        NaN        NaN   \n",
       "\n",
       "       tmdbPopularity  tmdbScore  runtime               genres  \\\n",
       "0             159.594      8.705      142                Drama   \n",
       "0             159.594      8.705      142               Crimen   \n",
       "1             111.674      8.516      152  Misterio & Suspense   \n",
       "1             111.674      8.516      152                Drama   \n",
       "1             111.674      8.516      152    Acción & Aventura   \n",
       "...               ...        ...      ...                  ...   \n",
       "19812          13.684      5.400        5      Ciencia ficción   \n",
       "19813           0.858        NaN       29              Comedia   \n",
       "19814           0.600        NaN       48                  nan   \n",
       "19815           2.841        NaN       90                  nan   \n",
       "19816           3.203        NaN      169             Fantasía   \n",
       "\n",
       "                director year_range  \\\n",
       "0         Frank Darabont  1900_2002   \n",
       "0         Frank Darabont  1900_2002   \n",
       "1      Christopher Nolan  2003_2010   \n",
       "1      Christopher Nolan  2003_2010   \n",
       "1      Christopher Nolan  2003_2010   \n",
       "...                  ...        ...   \n",
       "19812                NaN  2013_2017   \n",
       "19813                NaN       2021   \n",
       "19814                NaN       2022   \n",
       "19815            Kei Era  2011_2013   \n",
       "19816      Kikunojo Onoe       2022   \n",
       "\n",
       "                                                     url  \n",
       "0      https://play.max.com/movie/9b4dacba-2f80-4272-...  \n",
       "0      https://play.max.com/movie/9b4dacba-2f80-4272-...  \n",
       "1      https://play.max.com/movie/52217243-a137-45d6-...  \n",
       "1      https://play.max.com/movie/52217243-a137-45d6-...  \n",
       "1      https://play.max.com/movie/52217243-a137-45d6-...  \n",
       "...                                                  ...  \n",
       "19812              http://www.netflix.com/title/81208524  \n",
       "19813  https://app.primevideo.com/detail?gti=amzn1.dv...  \n",
       "19814  https://app.primevideo.com/detail?gti=amzn1.dv...  \n",
       "19815  https://app.primevideo.com/detail?gti=amzn1.dv...  \n",
       "19816              http://www.netflix.com/title/81517566  \n",
       "\n",
       "[52880 rows x 12 columns]"
      ],
      "text/html": [
       "<div>\n",
       "<style scoped>\n",
       "    .dataframe tbody tr th:only-of-type {\n",
       "        vertical-align: middle;\n",
       "    }\n",
       "\n",
       "    .dataframe tbody tr th {\n",
       "        vertical-align: top;\n",
       "    }\n",
       "\n",
       "    .dataframe thead th {\n",
       "        text-align: right;\n",
       "    }\n",
       "</style>\n",
       "<table border=\"1\" class=\"dataframe\">\n",
       "  <thead>\n",
       "    <tr style=\"text-align: right;\">\n",
       "      <th></th>\n",
       "      <th>title</th>\n",
       "      <th>platform</th>\n",
       "      <th>type</th>\n",
       "      <th>imdbVotes</th>\n",
       "      <th>imdbScore</th>\n",
       "      <th>tmdbPopularity</th>\n",
       "      <th>tmdbScore</th>\n",
       "      <th>runtime</th>\n",
       "      <th>genres</th>\n",
       "      <th>director</th>\n",
       "      <th>year_range</th>\n",
       "      <th>url</th>\n",
       "    </tr>\n",
       "  </thead>\n",
       "  <tbody>\n",
       "    <tr>\n",
       "      <th>0</th>\n",
       "      <td>Cadena perpetua</td>\n",
       "      <td>Max</td>\n",
       "      <td>MOVIE</td>\n",
       "      <td>2906253.0</td>\n",
       "      <td>9.3</td>\n",
       "      <td>159.594</td>\n",
       "      <td>8.705</td>\n",
       "      <td>142</td>\n",
       "      <td>Drama</td>\n",
       "      <td>Frank Darabont</td>\n",
       "      <td>1900_2002</td>\n",
       "      <td>https://play.max.com/movie/9b4dacba-2f80-4272-...</td>\n",
       "    </tr>\n",
       "    <tr>\n",
       "      <th>0</th>\n",
       "      <td>Cadena perpetua</td>\n",
       "      <td>Max</td>\n",
       "      <td>MOVIE</td>\n",
       "      <td>2906253.0</td>\n",
       "      <td>9.3</td>\n",
       "      <td>159.594</td>\n",
       "      <td>8.705</td>\n",
       "      <td>142</td>\n",
       "      <td>Crimen</td>\n",
       "      <td>Frank Darabont</td>\n",
       "      <td>1900_2002</td>\n",
       "      <td>https://play.max.com/movie/9b4dacba-2f80-4272-...</td>\n",
       "    </tr>\n",
       "    <tr>\n",
       "      <th>1</th>\n",
       "      <td>El caballero oscuro</td>\n",
       "      <td>Max</td>\n",
       "      <td>MOVIE</td>\n",
       "      <td>2893241.0</td>\n",
       "      <td>9.0</td>\n",
       "      <td>111.674</td>\n",
       "      <td>8.516</td>\n",
       "      <td>152</td>\n",
       "      <td>Misterio &amp; Suspense</td>\n",
       "      <td>Christopher Nolan</td>\n",
       "      <td>2003_2010</td>\n",
       "      <td>https://play.max.com/movie/52217243-a137-45d6-...</td>\n",
       "    </tr>\n",
       "    <tr>\n",
       "      <th>1</th>\n",
       "      <td>El caballero oscuro</td>\n",
       "      <td>Max</td>\n",
       "      <td>MOVIE</td>\n",
       "      <td>2893241.0</td>\n",
       "      <td>9.0</td>\n",
       "      <td>111.674</td>\n",
       "      <td>8.516</td>\n",
       "      <td>152</td>\n",
       "      <td>Drama</td>\n",
       "      <td>Christopher Nolan</td>\n",
       "      <td>2003_2010</td>\n",
       "      <td>https://play.max.com/movie/52217243-a137-45d6-...</td>\n",
       "    </tr>\n",
       "    <tr>\n",
       "      <th>1</th>\n",
       "      <td>El caballero oscuro</td>\n",
       "      <td>Max</td>\n",
       "      <td>MOVIE</td>\n",
       "      <td>2893241.0</td>\n",
       "      <td>9.0</td>\n",
       "      <td>111.674</td>\n",
       "      <td>8.516</td>\n",
       "      <td>152</td>\n",
       "      <td>Acción &amp; Aventura</td>\n",
       "      <td>Christopher Nolan</td>\n",
       "      <td>2003_2010</td>\n",
       "      <td>https://play.max.com/movie/52217243-a137-45d6-...</td>\n",
       "    </tr>\n",
       "    <tr>\n",
       "      <th>...</th>\n",
       "      <td>...</td>\n",
       "      <td>...</td>\n",
       "      <td>...</td>\n",
       "      <td>...</td>\n",
       "      <td>...</td>\n",
       "      <td>...</td>\n",
       "      <td>...</td>\n",
       "      <td>...</td>\n",
       "      <td>...</td>\n",
       "      <td>...</td>\n",
       "      <td>...</td>\n",
       "      <td>...</td>\n",
       "    </tr>\n",
       "    <tr>\n",
       "      <th>19812</th>\n",
       "      <td>Три кота</td>\n",
       "      <td>Netflix</td>\n",
       "      <td>SHOW</td>\n",
       "      <td>NaN</td>\n",
       "      <td>NaN</td>\n",
       "      <td>13.684</td>\n",
       "      <td>5.400</td>\n",
       "      <td>5</td>\n",
       "      <td>Ciencia ficción</td>\n",
       "      <td>NaN</td>\n",
       "      <td>2013_2017</td>\n",
       "      <td>http://www.netflix.com/title/81208524</td>\n",
       "    </tr>\n",
       "    <tr>\n",
       "      <th>19813</th>\n",
       "      <td>أم الدراهم</td>\n",
       "      <td>Amazon Prime Video</td>\n",
       "      <td>SHOW</td>\n",
       "      <td>NaN</td>\n",
       "      <td>NaN</td>\n",
       "      <td>0.858</td>\n",
       "      <td>NaN</td>\n",
       "      <td>29</td>\n",
       "      <td>Comedia</td>\n",
       "      <td>NaN</td>\n",
       "      <td>2021</td>\n",
       "      <td>https://app.primevideo.com/detail?gti=amzn1.dv...</td>\n",
       "    </tr>\n",
       "    <tr>\n",
       "      <th>19814</th>\n",
       "      <td>ورق مسموم</td>\n",
       "      <td>Amazon Prime Video</td>\n",
       "      <td>SHOW</td>\n",
       "      <td>NaN</td>\n",
       "      <td>NaN</td>\n",
       "      <td>0.600</td>\n",
       "      <td>NaN</td>\n",
       "      <td>48</td>\n",
       "      <td>nan</td>\n",
       "      <td>NaN</td>\n",
       "      <td>2022</td>\n",
       "      <td>https://app.primevideo.com/detail?gti=amzn1.dv...</td>\n",
       "    </tr>\n",
       "    <tr>\n",
       "      <th>19815</th>\n",
       "      <td>ガクドリ</td>\n",
       "      <td>Amazon Prime Video</td>\n",
       "      <td>MOVIE</td>\n",
       "      <td>NaN</td>\n",
       "      <td>NaN</td>\n",
       "      <td>2.841</td>\n",
       "      <td>NaN</td>\n",
       "      <td>90</td>\n",
       "      <td>nan</td>\n",
       "      <td>Kei Era</td>\n",
       "      <td>2011_2013</td>\n",
       "      <td>https://app.primevideo.com/detail?gti=amzn1.dv...</td>\n",
       "    </tr>\n",
       "    <tr>\n",
       "      <th>19816</th>\n",
       "      <td>新歌舞伎：赤胴鈴之助</td>\n",
       "      <td>Netflix</td>\n",
       "      <td>MOVIE</td>\n",
       "      <td>NaN</td>\n",
       "      <td>NaN</td>\n",
       "      <td>3.203</td>\n",
       "      <td>NaN</td>\n",
       "      <td>169</td>\n",
       "      <td>Fantasía</td>\n",
       "      <td>Kikunojo Onoe</td>\n",
       "      <td>2022</td>\n",
       "      <td>http://www.netflix.com/title/81517566</td>\n",
       "    </tr>\n",
       "  </tbody>\n",
       "</table>\n",
       "<p>52880 rows × 12 columns</p>\n",
       "</div>"
      ]
     },
     "execution_count": 60,
     "metadata": {},
     "output_type": "execute_result"
    }
   ],
   "execution_count": 60
  },
  {
   "metadata": {
    "ExecuteTime": {
     "end_time": "2024-09-01T01:04:30.961292Z",
     "start_time": "2024-09-01T01:04:30.946328Z"
    }
   },
   "cell_type": "code",
   "source": [
    "genres_counts = count_values_in_column(df_genres, column_name='genres')\n",
    "genres_counts"
   ],
   "id": "68e73cfcefc7704b",
   "outputs": [
    {
     "data": {
      "text/plain": [
       "genres\n",
       "Drama                  9389\n",
       "Comedia                7196\n",
       "Acción & Aventura      4767\n",
       "Misterio & Suspense    4674\n",
       "Crimen                 3144\n",
       "Romance                3139\n",
       "Familia                3087\n",
       "Documental             3031\n",
       "Animación              2534\n",
       "Fantasía               2434\n",
       "Ciencia ficción        2291\n",
       "Terror                 1601\n",
       "Europeas               1505\n",
       "Historia                957\n",
       "Música                  838\n",
       "Reality TV              771\n",
       "Deporte                 654\n",
       "Guerra                  485\n",
       "Western                 231\n",
       "nan                     152\n",
       "Name: count, dtype: int64"
      ]
     },
     "execution_count": 61,
     "metadata": {},
     "output_type": "execute_result"
    }
   ],
   "execution_count": 61
  },
  {
   "metadata": {
    "ExecuteTime": {
     "end_time": "2024-09-01T01:05:22.704308Z",
     "start_time": "2024-09-01T01:05:22.455093Z"
    }
   },
   "cell_type": "code",
   "source": "genres_counts.plot(kind='bar', title='Distribution of genres')",
   "id": "70f79f1226e52a3f",
   "outputs": [
    {
     "data": {
      "text/plain": [
       "<Axes: title={'center': 'Distribution of genres'}, xlabel='genres'>"
      ]
     },
     "execution_count": 63,
     "metadata": {},
     "output_type": "execute_result"
    },
    {
     "data": {
      "text/plain": [
       "<Figure size 640x480 with 1 Axes>"
      ],
      "image/png": "[encoded data removed]"
     },
     "metadata": {},
     "output_type": "display_data"
    }
   ],
   "execution_count": 63
  },
  {
   "metadata": {},
   "cell_type": "markdown",
   "source": [
    "Podemos ver que varios géneros pueden pertenecer a un solo título, incluso, pueden existir títulos sin género reportado.\n",
    "\n",
    "Este dato puede ser interesante comparándolo con el director"
   ],
   "id": "f4de96597f7fe550"
  },
  {
   "metadata": {},
   "cell_type": "markdown",
   "source": "# Director",
   "id": "e305902240ff05da"
  },
  {
   "metadata": {
    "ExecuteTime": {
     "end_time": "2024-09-01T03:54:28.940636Z",
     "start_time": "2024-09-01T03:54:28.926536Z"
    }
   },
   "cell_type": "code",
   "source": [
    "director_counts = count_values_in_column(df, column_name='director')\n",
    "director_counts"
   ],
   "id": "994a8607c4985bc4",
   "outputs": [
    {
     "data": {
      "text/plain": [
       "director\n",
       "Steven Spielberg                   27\n",
       "Woody Allen                        24\n",
       "Pedro Almodóvar                    21\n",
       "Michael Bay                        21\n",
       "Matías Gueilburt                   19\n",
       "                                   ..\n",
       "Kim Kwang-bin                       1\n",
       "Stephen Sandoval, Tom Caulfield     1\n",
       "Jessica Dimmock                     1\n",
       "Jeannie Gaffigan                    1\n",
       "Kikunojo Onoe                       1\n",
       "Name: count, Length: 8812, dtype: int64"
      ]
     },
     "execution_count": 66,
     "metadata": {},
     "output_type": "execute_result"
    }
   ],
   "execution_count": 66
  },
  {
   "metadata": {
    "ExecuteTime": {
     "end_time": "2024-09-01T03:59:13.671800Z",
     "start_time": "2024-09-01T03:59:13.536125Z"
    }
   },
   "cell_type": "code",
   "source": "director_counts.plot(kind='box', title='Distribution of directors')",
   "id": "154c3e4546ea8553",
   "outputs": [
    {
     "data": {
      "text/plain": [
       "<Axes: title={'center': 'Distribution of directors'}>"
      ]
     },
     "execution_count": 74,
     "metadata": {},
     "output_type": "execute_result"
    },
    {
     "data": {
      "text/plain": [
       "<Figure size 640x480 with 1 Axes>"
      ],
      "image/png": "[encoded data removed]"
     },
     "metadata": {},
     "output_type": "display_data"
    }
   ],
   "execution_count": 74
  },
  {
   "metadata": {},
   "cell_type": "markdown",
   "source": "Viendo el boxplot la mayoría de los directores tienen solo un título.  ",
   "id": "fdf138ba31b0fdff"
  },
  {
   "metadata": {
    "ExecuteTime": {
     "end_time": "2024-09-01T05:36:47.839712Z",
     "start_time": "2024-09-01T05:36:47.817560Z"
    }
   },
   "cell_type": "code",
   "source": [
    "directors_one_title = filter_values_equal_than_k(df, column_name='director')\n",
    "print('Cantidad de directores con un solo titulo: ', sum(directors_one_title))"
   ],
   "id": "ea79e3ae1f01695a",
   "outputs": [
    {
     "name": "stdout",
     "output_type": "stream",
     "text": [
      "Cantidad de directores con un solo titulo:  6179\n"
     ]
    }
   ],
   "execution_count": 86
  },
  {
   "metadata": {},
   "cell_type": "markdown",
   "source": "Ahora veamos el plot solo con los directores que tienen más de un título.",
   "id": "5ac1932676ab196e"
  },
  {
   "metadata": {
    "ExecuteTime": {
     "end_time": "2024-09-01T05:37:23.585405Z",
     "start_time": "2024-09-01T05:37:23.563571Z"
    }
   },
   "cell_type": "code",
   "source": [
    "directors_more_one_title = filter_values_greater_than_k(df, column_name='director')\n",
    "print('Cantidad de directores con más de un solo titulo: ', sum(directors_more_one_title))"
   ],
   "id": "a9e92587909499f2",
   "outputs": [
    {
     "name": "stdout",
     "output_type": "stream",
     "text": [
      "Cantidad de directores con más de un solo titulo:  8447\n"
     ]
    }
   ],
   "execution_count": 88
  },
  {
   "metadata": {
    "ExecuteTime": {
     "end_time": "2024-09-01T05:37:49.173603Z",
     "start_time": "2024-09-01T05:37:49.046237Z"
    }
   },
   "cell_type": "code",
   "source": "directors_more_one_title.plot(kind='box', title='Distribution of directors')",
   "id": "56f92d2583aada0a",
   "outputs": [
    {
     "data": {
      "text/plain": [
       "<Axes: title={'center': 'Distribution of directors'}>"
      ]
     },
     "execution_count": 89,
     "metadata": {},
     "output_type": "execute_result"
    },
    {
     "data": {
      "text/plain": [
       "<Figure size 640x480 with 1 Axes>"
      ],
      "image/png": "[encoded data removed]"
     },
     "metadata": {},
     "output_type": "display_data"
    }
   ],
   "execution_count": 89
  },
  {
   "metadata": {
    "ExecuteTime": {
     "end_time": "2024-09-01T05:39:37.948895Z",
     "start_time": "2024-09-01T05:39:37.793927Z"
    }
   },
   "cell_type": "code",
   "source": "directors_more_one_title.plot(kind='hist', title='Distribution of directors')",
   "id": "93a6a6834fc63a1",
   "outputs": [
    {
     "data": {
      "text/plain": [
       "<Axes: title={'center': 'Distribution of directors'}, ylabel='Frequency'>"
      ]
     },
     "execution_count": 94,
     "metadata": {},
     "output_type": "execute_result"
    },
    {
     "data": {
      "text/plain": [
       "<Figure size 640x480 with 1 Axes>"
      ],
      "image/png": "[encoded data removed]"
     },
     "metadata": {},
     "output_type": "display_data"
    }
   ],
   "execution_count": 94
  },
  {
   "metadata": {},
   "cell_type": "markdown",
   "source": "Dada la distribución de directores, se buscará hacer una distinctión entre directores con más de 5 títulos y con menos de 5 títulos ",
   "id": "d7e01eb69c33b805"
  },
  {
   "metadata": {
    "ExecuteTime": {
     "end_time": "2024-09-01T05:48:38.866418Z",
     "start_time": "2024-09-01T05:48:38.728415Z"
    }
   },
   "cell_type": "code",
   "source": [
    "directors_more_five_titles = filter_values_greater_than_k(df, column_name='director', k=5)\n",
    "directors_more_five_titles.plot(\n",
    "    kind='box', \n",
    "    title=f'Distribution of directors, count-> {sum(directors_more_five_titles)}',\n",
    "    xlabel = 'Directors with more than 5 titles'\n",
    ")"
   ],
   "id": "14fb8f7632b8b388",
   "outputs": [
    {
     "data": {
      "text/plain": [
       "<Axes: title={'center': 'Distribution of directors, count-> 2340'}, xlabel='Directors with more than 5 titles'>"
      ]
     },
     "execution_count": 104,
     "metadata": {},
     "output_type": "execute_result"
    },
    {
     "data": {
      "text/plain": [
       "<Figure size 640x480 with 1 Axes>"
      ],
      "image/png": "[encoded data removed]"
     },
     "metadata": {},
     "output_type": "display_data"
    }
   ],
   "execution_count": 104
  },
  {
   "metadata": {
    "ExecuteTime": {
     "end_time": "2024-09-01T05:49:11.627389Z",
     "start_time": "2024-09-01T05:49:11.462357Z"
    }
   },
   "cell_type": "code",
   "source": [
    "directors_less_five_titles = filter_values_lower_than_k(df, column_name='director', k=5)\n",
    "directors_less_five_titles.plot(\n",
    "    kind='box', \n",
    "    title=f'Distribution of directors, count-> {sum(directors_less_five_titles)}',\n",
    "    xlabel = 'Directors with less than 5 titles'\n",
    ")\n"
   ],
   "id": "57e555dcc47ec604",
   "outputs": [
    {
     "data": {
      "text/plain": [
       "<Axes: title={'center': 'Distribution of directors, count-> 12286'}, xlabel='Directors with less than 5 titles'>"
      ]
     },
     "execution_count": 105,
     "metadata": {},
     "output_type": "execute_result"
    },
    {
     "data": {
      "text/plain": [
       "<Figure size 640x480 with 1 Axes>"
      ],
      "image/png": "[encoded data removed]"
     },
     "metadata": {},
     "output_type": "display_data"
    }
   ],
   "execution_count": 105
  },
  {
   "metadata": {},
   "cell_type": "markdown",
   "source": "Como podemos observar, separar en 2 grupos a los directores por su cantidad de títulos no cambia la distribución de datos particularmente, sin embargo, sirve para entender de forma más amena que existe un subgrupo de directores que tienden a tener más títulos que lo esperado por la distribución que sería un título, esto sin considerarse necesariamente como outliers. ",
   "id": "982d80ad2cd43d3d"
  },
  {
   "metadata": {},
   "cell_type": "markdown",
   "source": [
    "### year_range\n",
    "\n",
    "Rango de fechas en las que se lanza la película. \n",
    "Para este caso y por comodidad solo tomaremos la fecha minima como valor de estudio, ya que es el valor que usualmente se reporta como fecha de lanzamiento en el gremio de entretenimiento"
   ],
   "id": "3f161f34ee41ec47"
  },
  {
   "metadata": {
    "ExecuteTime": {
     "end_time": "2024-09-01T06:01:06.061719Z",
     "start_time": "2024-09-01T06:01:06.022181Z"
    }
   },
   "cell_type": "code",
   "source": [
    "df_years = df.copy()\n",
    "df_years['min_year'] = df_years['year_range'].str.split('_')\n",
    "df_years['min_year'] = df_years['min_year'].str[0]\n",
    "df_years['min_year'] = df_years['min_year'].astype(int, errors='ignore')\n",
    "df_years"
   ],
   "id": "fce7833de0b23906",
   "outputs": [
    {
     "data": {
      "text/plain": [
       "                     title            platform   type  imdbVotes  imdbScore  \\\n",
       "0          Cadena perpetua                 Max  MOVIE  2906253.0        9.3   \n",
       "1      El caballero oscuro                 Max  MOVIE  2893241.0        9.0   \n",
       "2                   Origen                 Max  MOVIE  2570263.0        8.8   \n",
       "3      El club de la lucha         Disney Plus  MOVIE  2345071.0        8.8   \n",
       "4      El club de la lucha             Netflix  MOVIE  2345071.0        8.8   \n",
       "...                    ...                 ...    ...        ...        ...   \n",
       "19812             Три кота             Netflix   SHOW        NaN        NaN   \n",
       "19813           أم الدراهم  Amazon Prime Video   SHOW        NaN        NaN   \n",
       "19814            ورق مسموم  Amazon Prime Video   SHOW        NaN        NaN   \n",
       "19815                 ガクドリ  Amazon Prime Video  MOVIE        NaN        NaN   \n",
       "19816           新歌舞伎：赤胴鈴之助             Netflix  MOVIE        NaN        NaN   \n",
       "\n",
       "       tmdbPopularity  tmdbScore  runtime  \\\n",
       "0             159.594      8.705      142   \n",
       "1             111.674      8.516      152   \n",
       "2             139.644      8.369      148   \n",
       "3             108.297      8.400      139   \n",
       "4             108.297      8.400      139   \n",
       "...               ...        ...      ...   \n",
       "19812          13.684      5.400        5   \n",
       "19813           0.858        NaN       29   \n",
       "19814           0.600        NaN       48   \n",
       "19815           2.841        NaN       90   \n",
       "19816           3.203        NaN      169   \n",
       "\n",
       "                                                  genres           director  \\\n",
       "0                                       [Drama,  Crimen]     Frank Darabont   \n",
       "1      [Misterio & Suspense,  Drama,  Acción & Aventu...  Christopher Nolan   \n",
       "2      [Ciencia ficción,  Acción & Aventura,  Misteri...  Christopher Nolan   \n",
       "3                                                [Drama]      David Fincher   \n",
       "4                                                [Drama]      David Fincher   \n",
       "...                                                  ...                ...   \n",
       "19812                                  [Ciencia ficción]                NaN   \n",
       "19813                                          [Comedia]                NaN   \n",
       "19814                                                NaN                NaN   \n",
       "19815                                                NaN            Kei Era   \n",
       "19816                                         [Fantasía]      Kikunojo Onoe   \n",
       "\n",
       "      year_range                                                url min_year  \n",
       "0      1900_2002  https://play.max.com/movie/9b4dacba-2f80-4272-...     1900  \n",
       "1      2003_2010  https://play.max.com/movie/52217243-a137-45d6-...     2003  \n",
       "2      2003_2010  https://play.max.com/movie/14552c93-d318-4563-...     2003  \n",
       "3      1998_2004  https://disneyplus.bn5x.net/c/1206980/705874/9...     1998  \n",
       "4      1995_2005              http://www.netflix.com/title/26004747     1995  \n",
       "...          ...                                                ...      ...  \n",
       "19812  2013_2017              http://www.netflix.com/title/81208524     2013  \n",
       "19813       2021  https://app.primevideo.com/detail?gti=amzn1.dv...      NaN  \n",
       "19814       2022  https://app.primevideo.com/detail?gti=amzn1.dv...      NaN  \n",
       "19815  2011_2013  https://app.primevideo.com/detail?gti=amzn1.dv...     2011  \n",
       "19816       2022              http://www.netflix.com/title/81517566      NaN  \n",
       "\n",
       "[19817 rows x 13 columns]"
      ],
      "text/html": [
       "<div>\n",
       "<style scoped>\n",
       "    .dataframe tbody tr th:only-of-type {\n",
       "        vertical-align: middle;\n",
       "    }\n",
       "\n",
       "    .dataframe tbody tr th {\n",
       "        vertical-align: top;\n",
       "    }\n",
       "\n",
       "    .dataframe thead th {\n",
       "        text-align: right;\n",
       "    }\n",
       "</style>\n",
       "<table border=\"1\" class=\"dataframe\">\n",
       "  <thead>\n",
       "    <tr style=\"text-align: right;\">\n",
       "      <th></th>\n",
       "      <th>title</th>\n",
       "      <th>platform</th>\n",
       "      <th>type</th>\n",
       "      <th>imdbVotes</th>\n",
       "      <th>imdbScore</th>\n",
       "      <th>tmdbPopularity</th>\n",
       "      <th>tmdbScore</th>\n",
       "      <th>runtime</th>\n",
       "      <th>genres</th>\n",
       "      <th>director</th>\n",
       "      <th>year_range</th>\n",
       "      <th>url</th>\n",
       "      <th>min_year</th>\n",
       "    </tr>\n",
       "  </thead>\n",
       "  <tbody>\n",
       "    <tr>\n",
       "      <th>0</th>\n",
       "      <td>Cadena perpetua</td>\n",
       "      <td>Max</td>\n",
       "      <td>MOVIE</td>\n",
       "      <td>2906253.0</td>\n",
       "      <td>9.3</td>\n",
       "      <td>159.594</td>\n",
       "      <td>8.705</td>\n",
       "      <td>142</td>\n",
       "      <td>[Drama,  Crimen]</td>\n",
       "      <td>Frank Darabont</td>\n",
       "      <td>1900_2002</td>\n",
       "      <td>https://play.max.com/movie/9b4dacba-2f80-4272-...</td>\n",
       "      <td>1900</td>\n",
       "    </tr>\n",
       "    <tr>\n",
       "      <th>1</th>\n",
       "      <td>El caballero oscuro</td>\n",
       "      <td>Max</td>\n",
       "      <td>MOVIE</td>\n",
       "      <td>2893241.0</td>\n",
       "      <td>9.0</td>\n",
       "      <td>111.674</td>\n",
       "      <td>8.516</td>\n",
       "      <td>152</td>\n",
       "      <td>[Misterio &amp; Suspense,  Drama,  Acción &amp; Aventu...</td>\n",
       "      <td>Christopher Nolan</td>\n",
       "      <td>2003_2010</td>\n",
       "      <td>https://play.max.com/movie/52217243-a137-45d6-...</td>\n",
       "      <td>2003</td>\n",
       "    </tr>\n",
       "    <tr>\n",
       "      <th>2</th>\n",
       "      <td>Origen</td>\n",
       "      <td>Max</td>\n",
       "      <td>MOVIE</td>\n",
       "      <td>2570263.0</td>\n",
       "      <td>8.8</td>\n",
       "      <td>139.644</td>\n",
       "      <td>8.369</td>\n",
       "      <td>148</td>\n",
       "      <td>[Ciencia ficción,  Acción &amp; Aventura,  Misteri...</td>\n",
       "      <td>Christopher Nolan</td>\n",
       "      <td>2003_2010</td>\n",
       "      <td>https://play.max.com/movie/14552c93-d318-4563-...</td>\n",
       "      <td>2003</td>\n",
       "    </tr>\n",
       "    <tr>\n",
       "      <th>3</th>\n",
       "      <td>El club de la lucha</td>\n",
       "      <td>Disney Plus</td>\n",
       "      <td>MOVIE</td>\n",
       "      <td>2345071.0</td>\n",
       "      <td>8.8</td>\n",
       "      <td>108.297</td>\n",
       "      <td>8.400</td>\n",
       "      <td>139</td>\n",
       "      <td>[Drama]</td>\n",
       "      <td>David Fincher</td>\n",
       "      <td>1998_2004</td>\n",
       "      <td>https://disneyplus.bn5x.net/c/1206980/705874/9...</td>\n",
       "      <td>1998</td>\n",
       "    </tr>\n",
       "    <tr>\n",
       "      <th>4</th>\n",
       "      <td>El club de la lucha</td>\n",
       "      <td>Netflix</td>\n",
       "      <td>MOVIE</td>\n",
       "      <td>2345071.0</td>\n",
       "      <td>8.8</td>\n",
       "      <td>108.297</td>\n",
       "      <td>8.400</td>\n",
       "      <td>139</td>\n",
       "      <td>[Drama]</td>\n",
       "      <td>David Fincher</td>\n",
       "      <td>1995_2005</td>\n",
       "      <td>http://www.netflix.com/title/26004747</td>\n",
       "      <td>1995</td>\n",
       "    </tr>\n",
       "    <tr>\n",
       "      <th>...</th>\n",
       "      <td>...</td>\n",
       "      <td>...</td>\n",
       "      <td>...</td>\n",
       "      <td>...</td>\n",
       "      <td>...</td>\n",
       "      <td>...</td>\n",
       "      <td>...</td>\n",
       "      <td>...</td>\n",
       "      <td>...</td>\n",
       "      <td>...</td>\n",
       "      <td>...</td>\n",
       "      <td>...</td>\n",
       "      <td>...</td>\n",
       "    </tr>\n",
       "    <tr>\n",
       "      <th>19812</th>\n",
       "      <td>Три кота</td>\n",
       "      <td>Netflix</td>\n",
       "      <td>SHOW</td>\n",
       "      <td>NaN</td>\n",
       "      <td>NaN</td>\n",
       "      <td>13.684</td>\n",
       "      <td>5.400</td>\n",
       "      <td>5</td>\n",
       "      <td>[Ciencia ficción]</td>\n",
       "      <td>NaN</td>\n",
       "      <td>2013_2017</td>\n",
       "      <td>http://www.netflix.com/title/81208524</td>\n",
       "      <td>2013</td>\n",
       "    </tr>\n",
       "    <tr>\n",
       "      <th>19813</th>\n",
       "      <td>أم الدراهم</td>\n",
       "      <td>Amazon Prime Video</td>\n",
       "      <td>SHOW</td>\n",
       "      <td>NaN</td>\n",
       "      <td>NaN</td>\n",
       "      <td>0.858</td>\n",
       "      <td>NaN</td>\n",
       "      <td>29</td>\n",
       "      <td>[Comedia]</td>\n",
       "      <td>NaN</td>\n",
       "      <td>2021</td>\n",
       "      <td>https://app.primevideo.com/detail?gti=amzn1.dv...</td>\n",
       "      <td>NaN</td>\n",
       "    </tr>\n",
       "    <tr>\n",
       "      <th>19814</th>\n",
       "      <td>ورق مسموم</td>\n",
       "      <td>Amazon Prime Video</td>\n",
       "      <td>SHOW</td>\n",
       "      <td>NaN</td>\n",
       "      <td>NaN</td>\n",
       "      <td>0.600</td>\n",
       "      <td>NaN</td>\n",
       "      <td>48</td>\n",
       "      <td>NaN</td>\n",
       "      <td>NaN</td>\n",
       "      <td>2022</td>\n",
       "      <td>https://app.primevideo.com/detail?gti=amzn1.dv...</td>\n",
       "      <td>NaN</td>\n",
       "    </tr>\n",
       "    <tr>\n",
       "      <th>19815</th>\n",
       "      <td>ガクドリ</td>\n",
       "      <td>Amazon Prime Video</td>\n",
       "      <td>MOVIE</td>\n",
       "      <td>NaN</td>\n",
       "      <td>NaN</td>\n",
       "      <td>2.841</td>\n",
       "      <td>NaN</td>\n",
       "      <td>90</td>\n",
       "      <td>NaN</td>\n",
       "      <td>Kei Era</td>\n",
       "      <td>2011_2013</td>\n",
       "      <td>https://app.primevideo.com/detail?gti=amzn1.dv...</td>\n",
       "      <td>2011</td>\n",
       "    </tr>\n",
       "    <tr>\n",
       "      <th>19816</th>\n",
       "      <td>新歌舞伎：赤胴鈴之助</td>\n",
       "      <td>Netflix</td>\n",
       "      <td>MOVIE</td>\n",
       "      <td>NaN</td>\n",
       "      <td>NaN</td>\n",
       "      <td>3.203</td>\n",
       "      <td>NaN</td>\n",
       "      <td>169</td>\n",
       "      <td>[Fantasía]</td>\n",
       "      <td>Kikunojo Onoe</td>\n",
       "      <td>2022</td>\n",
       "      <td>http://www.netflix.com/title/81517566</td>\n",
       "      <td>NaN</td>\n",
       "    </tr>\n",
       "  </tbody>\n",
       "</table>\n",
       "<p>19817 rows × 13 columns</p>\n",
       "</div>"
      ]
     },
     "execution_count": 113,
     "metadata": {},
     "output_type": "execute_result"
    }
   ],
   "execution_count": 113
  },
  {
   "metadata": {
    "ExecuteTime": {
     "end_time": "2024-09-01T06:20:30.308093Z",
     "start_time": "2024-09-01T06:20:30.136070Z"
    }
   },
   "cell_type": "code",
   "source": [
    "years_counts = count_values_in_column(df_years, column_name='min_year')\n",
    "years_counts.index = years_counts.index.astype(int)  # Convierte los índices de year_counts a entero\n",
    "years_counts = years_counts.sort_index()  # Ordena el DataFrame por índice, es decir, año\n",
    "years_counts.plot(\n",
    "    kind='line', \n",
    "    title='Distribution of premiere years', \n",
    "    xlabel='Years',\n",
    "\n",
    ")"
   ],
   "id": "c689a3e959b841f7",
   "outputs": [
    {
     "data": {
      "text/plain": [
       "<Axes: title={'center': 'Distribution of premiere years'}, xlabel='Years'>"
      ]
     },
     "execution_count": 135,
     "metadata": {},
     "output_type": "execute_result"
    },
    {
     "data": {
      "text/plain": [
       "<Figure size 640x480 with 1 Axes>"
      ],
      "image/png": "[encoded data removed]"
     },
     "metadata": {},
     "output_type": "display_data"
    }
   ],
   "execution_count": 135
  },
  {
   "metadata": {},
   "cell_type": "markdown",
   "source": "Lastimosamente, se evidencian errores de typo en las fechas por lo que nos veremos en la obligación de filtrar los datos mayores a 1900 para visualizar correctamente la data",
   "id": "2d1cc37069f6d7e"
  },
  {
   "metadata": {
    "ExecuteTime": {
     "end_time": "2024-09-01T06:22:49.212697Z",
     "start_time": "2024-09-01T06:22:48.961696Z"
    }
   },
   "cell_type": "code",
   "source": [
    "years_counts.drop(1900).plot(\n",
    "    kind='line',\n",
    "    title='Distribution of premiere years',\n",
    "    xlabel='Years',\n",
    "\n",
    ")"
   ],
   "id": "7b8babf78f5d8e2b",
   "outputs": [
    {
     "data": {
      "text/plain": [
       "<Axes: title={'center': 'Distribution of premiere years'}, xlabel='Years'>"
      ]
     },
     "execution_count": 138,
     "metadata": {},
     "output_type": "execute_result"
    },
    {
     "data": {
      "text/plain": [
       "<Figure size 640x480 with 1 Axes>"
      ],
      "image/png": "[encoded data removed]"
     },
     "metadata": {},
     "output_type": "display_data"
    }
   ],
   "execution_count": 138
  },
  {
   "metadata": {},
   "cell_type": "markdown",
   "source": [
    "### url\n",
    "\n",
    "Esta columna es un valor unico por registro que lleva a su recurso en la web por lo que no sustancial para análisis.  "
   ],
   "id": "6b1e76e8a392e93d"
  }
 ],
 "metadata": {
  "kernelspec": {
   "display_name": "Python 3",
   "language": "python",
   "name": "python3"
  },
  "language_info": {
   "codemirror_mode": {
    "name": "ipython",
    "version": 2
   },
   "file_extension": ".py",
   "mimetype": "text/x-python",
   "name": "python",
   "nbconvert_exporter": "python",
   "pygments_lexer": "ipython2",
   "version": "2.7.6"
  }
 },
 "nbformat": 4,
 "nbformat_minor": 5
}
